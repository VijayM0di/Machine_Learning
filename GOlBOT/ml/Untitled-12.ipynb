{
 "cells": [
  {
   "cell_type": "markdown",
   "id": "540ca71f",
   "metadata": {},
   "source": [
    "# Filling Missing Dates in Sales Data\n",
    "\n",
    "This notebook demonstrates how to fill missing dates in a sales DataFrame, ensuring a continuous daily time series, summarizing the results, and saving the completed DataFrame to a new CSV file."
   ]
  },
  {
   "cell_type": "markdown",
   "id": "12115ef8",
   "metadata": {},
   "source": [
    "## 1. Import Required Libraries\n",
    "\n",
    "We need pandas for data manipulation, numpy for numerical operations, and datetime for working with dates."
   ]
  },
  {
   "cell_type": "code",
   "execution_count": null,
   "id": "04419c4b",
   "metadata": {},
   "outputs": [],
   "source": [
    "import pandas as pd\n",
    "import numpy as np\n",
    "from datetime import datetime, timedelta"
   ]
  },
  {
   "cell_type": "markdown",
   "id": "f58cd89b",
   "metadata": {},
   "source": [
    "## 2. Load and Inspect Data\n",
    "\n",
    "Load the sales data from `merged_sum_daily_agg.csv` and inspect its shape."
   ]
  },
  {
   "cell_type": "code",
   "execution_count": null,
   "id": "38101bd0",
   "metadata": {},
   "outputs": [],
   "source": [
    "# Load your data\n",
    "df = pd.read_csv('merged_sum_daily_agg.csv')  # replace with your filename\n",
    "print(\"Shape of original DataFrame:\", df.shape)"
   ]
  },
  {
   "cell_type": "markdown",
   "id": "228049e8",
   "metadata": {},
   "source": [
    "## 3. Convert invoiceDate to Datetime\n",
    "\n",
    "Convert the `invoiceDate` column to pandas datetime format to enable date operations."
   ]
  },
  {
   "cell_type": "code",
   "execution_count": null,
   "id": "e45785be",
   "metadata": {},
   "outputs": [],
   "source": [
    "# Convert invoiceDate to datetime\n",
    "df['invoiceDate'] = pd.to_datetime(df['invoiceDate'])"
   ]
  },
  {
   "cell_type": "markdown",
   "id": "6ded8973",
   "metadata": {},
   "source": [
    "## 4. Create Complete Date Range\n",
    "\n",
    "Determine the minimum and maximum dates in the data and create a complete daily date range."
   ]
  },
  {
   "cell_type": "code",
   "execution_count": null,
   "id": "358e48b9",
   "metadata": {},
   "outputs": [],
   "source": [
    "# Find the date range\n",
    "start_date = df['invoiceDate'].min()\n",
    "end_date = df['invoiceDate'].max()\n",
    "\n",
    "# Create a complete date range\n",
    "date_range = pd.date_range(start=start_date, end=end_date, freq='D')"
   ]
  },
  {
   "cell_type": "markdown",
   "id": "28c48952",
   "metadata": {},
   "source": [
    "## 5. Merge Original Data with All Dates\n",
    "\n",
    "Create a DataFrame with all dates and merge it with the original data to identify missing dates."
   ]
  },
  {
   "cell_type": "code",
   "execution_count": null,
   "id": "c471de11",
   "metadata": {},
   "outputs": [],
   "source": [
    "# Create a dataframe with all dates\n",
    "all_dates_df = pd.DataFrame({'invoiceDate': date_range})\n",
    "\n",
    "# Merge with original dataframe to identify missing dates\n",
    "merged_df = pd.merge(all_dates_df, df, on='invoiceDate', how='left')"
   ]
  },
  {
   "cell_type": "markdown",
   "id": "21d927cd",
   "metadata": {},
   "source": [
    "## 6. Fill Missing Amounts\n",
    "\n",
    "Fill missing `amount` values with 0 while keeping other columns as null."
   ]
  },
  {
   "cell_type": "code",
   "execution_count": null,
   "id": "345e92c6",
   "metadata": {},
   "outputs": [],
   "source": [
    "# Fill missing amounts with 0 and keep other columns as null\n",
    "merged_df['amount'] = merged_df['amount'].fillna(0)"
   ]
  },
  {
   "cell_type": "markdown",
   "id": "2d3781d3",
   "metadata": {},
   "source": [
    "## 7. Format Dates for Display\n",
    "\n",
    "Convert the `invoiceDate` column back to string format (YYYY-MM-DD) for display."
   ]
  },
  {
   "cell_type": "code",
   "execution_count": null,
   "id": "4dac9c32",
   "metadata": {},
   "outputs": [],
   "source": [
    "# Convert invoiceDate back to original format for display\n",
    "merged_df['invoiceDate'] = merged_df['invoiceDate'].dt.strftime('%Y-%m-%d')"
   ]
  },
  {
   "cell_type": "markdown",
   "id": "55066bc5",
   "metadata": {},
   "source": [
    "## 8. Display Results and Summary\n",
    "\n",
    "Print the original and completed DataFrames, show the first 10 rows, and summarize the number of missing dates added."
   ]
  },
  {
   "cell_type": "code",
   "execution_count": null,
   "id": "e89fd0ba",
   "metadata": {},
   "outputs": [],
   "source": [
    "print(\"Original DataFrame:\")\n",
    "print(df)\n",
    "print(\"\\nDataFrame with missing dates added:\")\n",
    "print(merged_df)\n",
    "\n",
    "# If you want to save the result back to your original dataframe\n",
    "df_complete = merged_df.copy()\n",
    "\n",
    "# Display first 10 rows to see the result\n",
    "print(\"\\nFirst 10 rows of complete dataframe:\")\n",
    "print(df_complete.head(10))\n",
    "\n",
    "# Show summary of added rows\n",
    "original_count = len(df)\n",
    "new_count = len(df_complete)\n",
    "added_count = new_count - original_count\n",
    "print(f\"\\nSummary:\")\n",
    "print(f\"Original rows: {original_count}\")\n",
    "print(f\"Total rows after adding missing dates: {new_count}\")\n",
    "print(f\"Missing dates added: {added_count}\")"
   ]
  },
  {
   "cell_type": "markdown",
   "id": "ea1de035",
   "metadata": {},
   "source": [
    "## 9. Save Completed DataFrame to CSV\n",
    "\n",
    "Save the completed DataFrame with filled dates to a new CSV file named `merged_sum_daily_agg_completed.csv`."
   ]
  },
  {
   "cell_type": "code",
   "execution_count": null,
   "id": "f57bd5e4",
   "metadata": {},
   "outputs": [],
   "source": [
    "# Save the completed DataFrame to a new CSV file\n",
    "df_complete.to_csv('merged_sum_daily_agg_completed.csv', index=False)\n",
    "print(\"Completed DataFrame saved to 'merged_sum_daily_agg_completed.csv'\")"
   ]
  }
 ],
 "metadata": {
  "language_info": {
   "name": "python"
  }
 },
 "nbformat": 4,
 "nbformat_minor": 5
}
