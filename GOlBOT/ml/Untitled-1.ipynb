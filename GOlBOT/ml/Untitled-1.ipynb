{
 "cells": [
  {
   "cell_type": "markdown",
   "id": "be5750f7",
   "metadata": {},
   "source": [
    "# Filling Missing Dates in Sales Data\n",
    "\n",
    "This notebook demonstrates how to fill missing dates in a sales DataFrame, ensuring a continuous daily time series and summarizing the results."
   ]
  },
  {
   "cell_type": "markdown",
   "id": "eabd407d",
   "metadata": {},
   "source": [
    "## 1. Import Required Libraries\n",
    "\n",
    "We need pandas for data manipulation, numpy for numerical operations, and datetime for working with dates."
   ]
  },
  {
   "cell_type": "code",
   "execution_count": 1,
   "id": "d6446f2c",
   "metadata": {},
   "outputs": [],
   "source": [
    "import pandas as pd\n",
    "import numpy as np\n",
    "from datetime import datetime, timedelta"
   ]
  },
  {
   "cell_type": "markdown",
   "id": "9a24a379",
   "metadata": {},
   "source": [
    "## 2. Load and Inspect Data\n",
    "\n",
    "Load the sales data from `merged_sum_daily_agg.csv` and inspect its shape."
   ]
  },
  {
   "cell_type": "code",
   "execution_count": 2,
   "id": "51636974",
   "metadata": {},
   "outputs": [
    {
     "name": "stdout",
     "output_type": "stream",
     "text": [
      "Shape of original DataFrame: (1229, 2)\n"
     ]
    }
   ],
   "source": [
    "# Load your data\n",
    "df = pd.read_csv('merged_sum_daily_agg.csv')  # replace with your filename\n",
    "print(\"Shape of original DataFrame:\", df.shape)"
   ]
  },
  {
   "cell_type": "markdown",
   "id": "009f9b75",
   "metadata": {},
   "source": [
    "## 3. Convert invoiceDate to Datetime\n",
    "\n",
    "Convert the `invoiceDate` column to pandas datetime format to enable date operations."
   ]
  },
  {
   "cell_type": "code",
   "execution_count": 3,
   "id": "8af29406",
   "metadata": {},
   "outputs": [],
   "source": [
    "# Convert invoiceDate to datetime\n",
    "df['invoiceDate'] = pd.to_datetime(df['invoiceDate'])"
   ]
  },
  {
   "cell_type": "markdown",
   "id": "161ef4eb",
   "metadata": {},
   "source": [
    "## 4. Create Complete Date Range\n",
    "\n",
    "Determine the minimum and maximum dates in the data and create a complete daily date range."
   ]
  },
  {
   "cell_type": "code",
   "execution_count": 4,
   "id": "d8e02b99",
   "metadata": {},
   "outputs": [],
   "source": [
    "# Find the date range\n",
    "start_date = df['invoiceDate'].min()\n",
    "end_date = df['invoiceDate'].max()\n",
    "\n",
    "# Create a complete date range\n",
    "date_range = pd.date_range(start=start_date, end=end_date, freq='D')"
   ]
  },
  {
   "cell_type": "markdown",
   "id": "6c95c24b",
   "metadata": {},
   "source": [
    "## 5. Merge Original Data with All Dates\n",
    "\n",
    "Create a DataFrame with all dates and merge it with the original data to identify missing dates."
   ]
  },
  {
   "cell_type": "code",
   "execution_count": 5,
   "id": "f8b41d9a",
   "metadata": {},
   "outputs": [],
   "source": [
    "# Create a dataframe with all dates\n",
    "all_dates_df = pd.DataFrame({'invoiceDate': date_range})\n",
    "\n",
    "# Merge with original dataframe to identify missing dates\n",
    "merged_df = pd.merge(all_dates_df, df, on='invoiceDate', how='left')"
   ]
  },
  {
   "cell_type": "markdown",
   "id": "691b0aaa",
   "metadata": {},
   "source": [
    "## 6. Fill Missing Amounts\n",
    "\n",
    "Fill missing `amount` values with 0 while keeping other columns as null."
   ]
  },
  {
   "cell_type": "code",
   "execution_count": 6,
   "id": "91a81441",
   "metadata": {},
   "outputs": [],
   "source": [
    "# Fill missing amounts with 0 and keep other columns as null\n",
    "merged_df['amount'] = merged_df['amount'].fillna(0)"
   ]
  },
  {
   "cell_type": "markdown",
   "id": "e7d34ada",
   "metadata": {},
   "source": [
    "## 7. Format Dates for Display\n",
    "\n",
    "Convert the `invoiceDate` column back to string format (YYYY-MM-DD) for display."
   ]
  },
  {
   "cell_type": "code",
   "execution_count": 7,
   "id": "10e26b9d",
   "metadata": {},
   "outputs": [],
   "source": [
    "# Convert invoiceDate back to original format for display\n",
    "merged_df['invoiceDate'] = merged_df['invoiceDate'].dt.strftime('%Y-%m-%d')"
   ]
  },
  {
   "cell_type": "markdown",
   "id": "f8dbcef2",
   "metadata": {},
   "source": [
    "## 8. Display Results and Summary\n",
    "\n",
    "Print the original and completed DataFrames, show the first 10 rows, and summarize the number of missing dates added."
   ]
  },
  {
   "cell_type": "code",
   "execution_count": 8,
   "id": "fa5bc87a",
   "metadata": {},
   "outputs": [
    {
     "name": "stdout",
     "output_type": "stream",
     "text": [
      "Original DataFrame:\n",
      "     invoiceDate      amount\n",
      "0     2021-01-01   437149.38\n",
      "1     2021-01-02  1339262.26\n",
      "2     2021-01-04   561277.74\n",
      "3     2021-01-05  1170126.46\n",
      "4     2021-01-06   286603.24\n",
      "...          ...         ...\n",
      "1224  2025-01-15   626650.70\n",
      "1225  2025-01-16  1476741.32\n",
      "1226  2025-01-17   904809.08\n",
      "1227  2025-01-18  1163560.34\n",
      "1228  2025-01-20  1368660.76\n",
      "\n",
      "[1229 rows x 2 columns]\n",
      "\n",
      "DataFrame with missing dates added:\n",
      "     invoiceDate      amount\n",
      "0     2021-01-01   437149.38\n",
      "1     2021-01-02  1339262.26\n",
      "2     2021-01-03        0.00\n",
      "3     2021-01-04   561277.74\n",
      "4     2021-01-05  1170126.46\n",
      "...          ...         ...\n",
      "1476  2025-01-16  1476741.32\n",
      "1477  2025-01-17   904809.08\n",
      "1478  2025-01-18  1163560.34\n",
      "1479  2025-01-19        0.00\n",
      "1480  2025-01-20  1368660.76\n",
      "\n",
      "[1481 rows x 2 columns]\n",
      "\n",
      "First 10 rows of complete dataframe:\n",
      "  invoiceDate      amount\n",
      "0  2021-01-01   437149.38\n",
      "1  2021-01-02  1339262.26\n",
      "2  2021-01-03        0.00\n",
      "3  2021-01-04   561277.74\n",
      "4  2021-01-05  1170126.46\n",
      "5  2021-01-06   286603.24\n",
      "6  2021-01-07   517177.68\n",
      "7  2021-01-08   454866.08\n",
      "8  2021-01-09   305423.08\n",
      "9  2021-01-10        0.00\n",
      "\n",
      "Summary:\n",
      "Original rows: 1229\n",
      "Total rows after adding missing dates: 1481\n",
      "Missing dates added: 252\n"
     ]
    }
   ],
   "source": [
    "print(\"Original DataFrame:\")\n",
    "print(df)\n",
    "print(\"\\nDataFrame with missing dates added:\")\n",
    "print(merged_df)\n",
    "\n",
    "# If you want to save the result back to your original dataframe\n",
    "df_complete = merged_df.copy()\n",
    "\n",
    "# Display first 10 rows to see the result\n",
    "print(\"\\nFirst 10 rows of complete dataframe:\")\n",
    "print(df_complete.head(10))\n",
    "\n",
    "# Show summary of added rows\n",
    "original_count = len(df)\n",
    "new_count = len(df_complete)\n",
    "added_count = new_count - original_count\n",
    "print(f\"\\nSummary:\")\n",
    "print(f\"Original rows: {original_count}\")\n",
    "print(f\"Total rows after adding missing dates: {new_count}\")\n",
    "print(f\"Missing dates added: {added_count}\")"
   ]
  },
  {
   "cell_type": "code",
   "execution_count": 9,
   "id": "75ce9cd0",
   "metadata": {},
   "outputs": [
    {
     "name": "stdout",
     "output_type": "stream",
     "text": [
      "new.csv\n"
     ]
    }
   ],
   "source": [
    "# Save the completed DataFrame to a new CSV file\n",
    "df_complete.to_csv('merged_sum_daily_agg_filled.csv', index=False)\n",
    "print(\"new.csv\")"
   ]
  },
  {
   "cell_type": "code",
   "execution_count": null,
   "id": "f18e6a77",
   "metadata": {},
   "outputs": [],
   "source": []
  },
  {
   "cell_type": "code",
   "execution_count": null,
   "id": "6e345828",
   "metadata": {},
   "outputs": [],
   "source": []
  }
 ],
 "metadata": {
  "kernelspec": {
   "display_name": "Python 3",
   "language": "python",
   "name": "python3"
  },
  "language_info": {
   "codemirror_mode": {
    "name": "ipython",
    "version": 3
   },
   "file_extension": ".py",
   "mimetype": "text/x-python",
   "name": "python",
   "nbconvert_exporter": "python",
   "pygments_lexer": "ipython3",
   "version": "3.11.11"
  }
 },
 "nbformat": 4,
 "nbformat_minor": 5
}
